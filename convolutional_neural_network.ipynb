{
 "cells": [
  {
   "cell_type": "markdown",
   "metadata": {
    "id": "3DR-eO17geWu"
   },
   "source": [
    "# Convolutional Neural Network"
   ]
  },
  {
   "cell_type": "markdown",
   "metadata": {
    "id": "EMefrVPCg-60"
   },
   "source": [
    "### Importing the libraries"
   ]
  },
  {
   "cell_type": "code",
   "execution_count": 3,
   "metadata": {
    "id": "sCV30xyVhFbE"
   },
   "outputs": [],
   "source": [
    "import tensorflow as tf\n",
    "from keras.preprocessing.image import ImageDataGenerator"
   ]
  },
  {
   "cell_type": "code",
   "execution_count": 4,
   "metadata": {
    "id": "FIleuCAjoFD8"
   },
   "outputs": [
    {
     "data": {
      "text/plain": [
       "'2.2.0'"
      ]
     },
     "execution_count": 4,
     "metadata": {},
     "output_type": "execute_result"
    }
   ],
   "source": [
    "tf.__version__"
   ]
  },
  {
   "cell_type": "markdown",
   "metadata": {
    "id": "oxQxCBWyoGPE"
   },
   "source": [
    "## Part 1 - Data Preprocessing"
   ]
  },
  {
   "cell_type": "markdown",
   "metadata": {
    "id": "MvE-heJNo3GG"
   },
   "source": [
    "### Preprocessing the Training set"
   ]
  },
  {
   "cell_type": "code",
   "execution_count": 5,
   "metadata": {
    "id": "0koUcJMJpEBD"
   },
   "outputs": [
    {
     "name": "stdout",
     "output_type": "stream",
     "text": [
      "Found 8000 images belonging to 2 classes.\n"
     ]
    }
   ],
   "source": [
    "train_datagen = ImageDataGenerator(rescale = 1./255,\n",
    "                                   shear_range = 0.2,\n",
    "                                   zoom_range = 0.2,\n",
    "                                   horizontal_flip = True)\n",
    "training_set = train_datagen.flow_from_directory('dataset/training_set',\n",
    "                                                 target_size = (64, 64),\n",
    "                                                 batch_size = 32,\n",
    "                                                 class_mode = 'binary')"
   ]
  },
  {
   "cell_type": "markdown",
   "metadata": {
    "id": "mrCMmGw9pHys"
   },
   "source": [
    "### Preprocessing the Test set"
   ]
  },
  {
   "cell_type": "code",
   "execution_count": 6,
   "metadata": {
    "id": "SH4WzfOhpKc3"
   },
   "outputs": [
    {
     "name": "stdout",
     "output_type": "stream",
     "text": [
      "Found 2000 images belonging to 2 classes.\n"
     ]
    }
   ],
   "source": [
    "test_datagen = ImageDataGenerator(rescale = 1./255)\n",
    "test_set = test_datagen.flow_from_directory('dataset/test_set',\n",
    "                                            target_size = (64, 64),\n",
    "                                            batch_size = 32,\n",
    "                                            class_mode = 'binary')"
   ]
  },
  {
   "cell_type": "markdown",
   "metadata": {
    "id": "af8O4l90gk7B"
   },
   "source": [
    "## Part 2 - Building the CNN"
   ]
  },
  {
   "cell_type": "markdown",
   "metadata": {
    "id": "ces1gXY2lmoX"
   },
   "source": [
    "### Initialising the CNN"
   ]
  },
  {
   "cell_type": "code",
   "execution_count": 7,
   "metadata": {
    "id": "SAUt4UMPlhLS"
   },
   "outputs": [],
   "source": [
    "cnn = tf.keras.models.Sequential()"
   ]
  },
  {
   "cell_type": "markdown",
   "metadata": {
    "id": "u5YJj_XMl5LF"
   },
   "source": [
    "### Step 1 - Convolution"
   ]
  },
  {
   "cell_type": "code",
   "execution_count": 8,
   "metadata": {
    "id": "XPzPrMckl-hV"
   },
   "outputs": [],
   "source": [
    "cnn.add(tf.keras.layers.Conv2D(filters=32, kernel_size=3, activation='relu', input_shape=[64, 64, 3]))"
   ]
  },
  {
   "cell_type": "markdown",
   "metadata": {
    "id": "tf87FpvxmNOJ"
   },
   "source": [
    "### Step 2 - Pooling"
   ]
  },
  {
   "cell_type": "code",
   "execution_count": 9,
   "metadata": {
    "id": "ncpqPl69mOac"
   },
   "outputs": [],
   "source": [
    "cnn.add(tf.keras.layers.MaxPool2D(pool_size=2, strides=2))"
   ]
  },
  {
   "cell_type": "markdown",
   "metadata": {
    "id": "xaTOgD8rm4mU"
   },
   "source": [
    "### Adding a second convolutional layer"
   ]
  },
  {
   "cell_type": "code",
   "execution_count": 10,
   "metadata": {
    "id": "i_-FZjn_m8gk"
   },
   "outputs": [],
   "source": [
    "cnn.add(tf.keras.layers.Conv2D(filters=32, kernel_size=3, activation='relu'))\n",
    "cnn.add(tf.keras.layers.MaxPool2D(pool_size=2, strides=2))"
   ]
  },
  {
   "cell_type": "markdown",
   "metadata": {
    "id": "tmiEuvTunKfk"
   },
   "source": [
    "### Step 3 - Flattening"
   ]
  },
  {
   "cell_type": "code",
   "execution_count": 11,
   "metadata": {
    "id": "6AZeOGCvnNZn"
   },
   "outputs": [],
   "source": [
    "cnn.add(tf.keras.layers.Flatten())"
   ]
  },
  {
   "cell_type": "markdown",
   "metadata": {
    "id": "dAoSECOm203v"
   },
   "source": [
    "### Step 4 - Full Connection"
   ]
  },
  {
   "cell_type": "code",
   "execution_count": 12,
   "metadata": {
    "id": "8GtmUlLd26Nq"
   },
   "outputs": [],
   "source": [
    "cnn.add(tf.keras.layers.Dense(units=128, activation='relu'))"
   ]
  },
  {
   "cell_type": "markdown",
   "metadata": {
    "id": "yTldFvbX28Na"
   },
   "source": [
    "### Step 5 - Output Layer"
   ]
  },
  {
   "cell_type": "code",
   "execution_count": 13,
   "metadata": {
    "id": "1p_Zj1Mc3Ko_"
   },
   "outputs": [],
   "source": [
    "cnn.add(tf.keras.layers.Dense(units=1, activation='sigmoid'))"
   ]
  },
  {
   "cell_type": "markdown",
   "metadata": {
    "id": "D6XkI90snSDl"
   },
   "source": [
    "## Part 3 - Training the CNN"
   ]
  },
  {
   "cell_type": "markdown",
   "metadata": {
    "id": "vfrFQACEnc6i"
   },
   "source": [
    "### Compiling the CNN"
   ]
  },
  {
   "cell_type": "code",
   "execution_count": 14,
   "metadata": {
    "id": "NALksrNQpUlJ"
   },
   "outputs": [],
   "source": [
    "cnn.compile(optimizer = 'adam', loss = 'binary_crossentropy', metrics = ['accuracy'])"
   ]
  },
  {
   "cell_type": "markdown",
   "metadata": {
    "id": "ehS-v3MIpX2h"
   },
   "source": [
    "### Training the CNN on the Training set and evaluating it on the Test set"
   ]
  },
  {
   "cell_type": "code",
   "execution_count": 15,
   "metadata": {
    "id": "XUj1W4PJptta"
   },
   "outputs": [
    {
     "name": "stdout",
     "output_type": "stream",
     "text": [
      "Epoch 1/25\n",
      "250/250 [==============================] - 137s 548ms/step - loss: 0.6703 - accuracy: 0.5813 - val_loss: 0.6287 - val_accuracy: 0.6470\n",
      "Epoch 2/25\n",
      "250/250 [==============================] - 72s 286ms/step - loss: 0.5976 - accuracy: 0.6784 - val_loss: 0.5820 - val_accuracy: 0.6930\n",
      "Epoch 3/25\n",
      "250/250 [==============================] - 66s 266ms/step - loss: 0.5523 - accuracy: 0.7201 - val_loss: 0.5285 - val_accuracy: 0.7325\n",
      "Epoch 4/25\n",
      "250/250 [==============================] - 58s 234ms/step - loss: 0.5310 - accuracy: 0.7333 - val_loss: 0.5117 - val_accuracy: 0.7525\n",
      "Epoch 5/25\n",
      "250/250 [==============================] - 66s 264ms/step - loss: 0.5084 - accuracy: 0.7450 - val_loss: 0.5141 - val_accuracy: 0.7490\n",
      "Epoch 6/25\n",
      "250/250 [==============================] - 65s 261ms/step - loss: 0.4973 - accuracy: 0.7550 - val_loss: 0.4984 - val_accuracy: 0.7495\n",
      "Epoch 7/25\n",
      "250/250 [==============================] - 69s 278ms/step - loss: 0.4710 - accuracy: 0.7724 - val_loss: 0.4834 - val_accuracy: 0.7685\n",
      "Epoch 8/25\n",
      "250/250 [==============================] - 61s 242ms/step - loss: 0.4707 - accuracy: 0.7769 - val_loss: 0.4847 - val_accuracy: 0.7695\n",
      "Epoch 9/25\n",
      "250/250 [==============================] - 62s 249ms/step - loss: 0.4452 - accuracy: 0.7872 - val_loss: 0.5072 - val_accuracy: 0.7670\n",
      "Epoch 10/25\n",
      "250/250 [==============================] - 62s 249ms/step - loss: 0.4297 - accuracy: 0.7947 - val_loss: 0.4854 - val_accuracy: 0.7825\n",
      "Epoch 11/25\n",
      "250/250 [==============================] - 65s 262ms/step - loss: 0.4233 - accuracy: 0.8012 - val_loss: 0.4701 - val_accuracy: 0.7900\n",
      "Epoch 12/25\n",
      "250/250 [==============================] - 71s 285ms/step - loss: 0.4081 - accuracy: 0.8105 - val_loss: 0.5087 - val_accuracy: 0.7825\n",
      "Epoch 13/25\n",
      "250/250 [==============================] - 62s 249ms/step - loss: 0.4047 - accuracy: 0.8129 - val_loss: 0.4731 - val_accuracy: 0.7910\n",
      "Epoch 14/25\n",
      "250/250 [==============================] - 63s 253ms/step - loss: 0.3935 - accuracy: 0.8204 - val_loss: 0.4665 - val_accuracy: 0.7885\n",
      "Epoch 15/25\n",
      "250/250 [==============================] - 79s 317ms/step - loss: 0.3822 - accuracy: 0.8230 - val_loss: 0.4639 - val_accuracy: 0.7890\n",
      "Epoch 16/25\n",
      "250/250 [==============================] - 73s 292ms/step - loss: 0.3663 - accuracy: 0.8366 - val_loss: 0.4743 - val_accuracy: 0.7930\n",
      "Epoch 17/25\n",
      "250/250 [==============================] - 79s 317ms/step - loss: 0.3572 - accuracy: 0.8382 - val_loss: 0.4540 - val_accuracy: 0.8110\n",
      "Epoch 18/25\n",
      "250/250 [==============================] - 67s 266ms/step - loss: 0.3519 - accuracy: 0.8405 - val_loss: 0.4584 - val_accuracy: 0.8100\n",
      "Epoch 19/25\n",
      "250/250 [==============================] - 60s 241ms/step - loss: 0.3327 - accuracy: 0.8550 - val_loss: 0.4739 - val_accuracy: 0.8015\n",
      "Epoch 20/25\n",
      "250/250 [==============================] - 58s 233ms/step - loss: 0.3236 - accuracy: 0.8559 - val_loss: 0.4779 - val_accuracy: 0.7990\n",
      "Epoch 21/25\n",
      "250/250 [==============================] - 68s 270ms/step - loss: 0.3110 - accuracy: 0.8635 - val_loss: 0.4781 - val_accuracy: 0.8100\n",
      "Epoch 22/25\n",
      "250/250 [==============================] - 63s 254ms/step - loss: 0.3031 - accuracy: 0.8673 - val_loss: 0.4576 - val_accuracy: 0.8170\n",
      "Epoch 23/25\n",
      "250/250 [==============================] - 58s 232ms/step - loss: 0.2974 - accuracy: 0.8706 - val_loss: 0.4793 - val_accuracy: 0.8000\n",
      "Epoch 24/25\n",
      "250/250 [==============================] - 71s 284ms/step - loss: 0.2782 - accuracy: 0.8825 - val_loss: 0.5339 - val_accuracy: 0.8000\n",
      "Epoch 25/25\n",
      "250/250 [==============================] - 60s 240ms/step - loss: 0.2781 - accuracy: 0.8839 - val_loss: 0.4646 - val_accuracy: 0.8065\n"
     ]
    },
    {
     "data": {
      "text/plain": [
       "<tensorflow.python.keras.callbacks.History at 0x17af5087cd0>"
      ]
     },
     "execution_count": 15,
     "metadata": {},
     "output_type": "execute_result"
    }
   ],
   "source": [
    "cnn.fit(x = training_set, validation_data = test_set, epochs = 25)"
   ]
  },
  {
   "cell_type": "markdown",
   "metadata": {
    "id": "U3PZasO0006Z"
   },
   "source": [
    "## Part 4 - Making a single prediction"
   ]
  },
  {
   "cell_type": "code",
   "execution_count": 16,
   "metadata": {
    "id": "gsSiWEJY1BPB"
   },
   "outputs": [],
   "source": [
    "import numpy as np\n",
    "from keras.preprocessing import image\n",
    "test_image = image.load_img('dataset/single_prediction/cat_or_dog_1.jpg', target_size = (64, 64))\n",
    "test_image = image.img_to_array(test_image)\n",
    "test_image = np.expand_dims(test_image, axis = 0)\n",
    "result = cnn.predict(test_image/255.0)\n",
    "training_set.class_indices\n",
    "if result[0][0] > 0.5:\n",
    "  prediction = 'dog'\n",
    "else:\n",
    "  prediction = 'cat'"
   ]
  },
  {
   "cell_type": "code",
   "execution_count": 17,
   "metadata": {
    "id": "ED9KB3I54c1i"
   },
   "outputs": [
    {
     "name": "stdout",
     "output_type": "stream",
     "text": [
      "dog\n"
     ]
    }
   ],
   "source": [
    "print(prediction)"
   ]
  },
  {
   "cell_type": "code",
   "execution_count": null,
   "metadata": {},
   "outputs": [],
   "source": []
  },
  {
   "cell_type": "code",
   "execution_count": null,
   "metadata": {},
   "outputs": [],
   "source": []
  },
  {
   "cell_type": "code",
   "execution_count": null,
   "metadata": {},
   "outputs": [],
   "source": []
  }
 ],
 "metadata": {
  "colab": {
   "collapsed_sections": [],
   "name": "Copy of convolutional_neural_network.ipynb",
   "provenance": [],
   "toc_visible": true
  },
  "kernelspec": {
   "display_name": "Python 3",
   "language": "python",
   "name": "python3"
  },
  "language_info": {
   "codemirror_mode": {
    "name": "ipython",
    "version": 3
   },
   "file_extension": ".py",
   "mimetype": "text/x-python",
   "name": "python",
   "nbconvert_exporter": "python",
   "pygments_lexer": "ipython3",
   "version": "3.8.5"
  }
 },
 "nbformat": 4,
 "nbformat_minor": 1
}
